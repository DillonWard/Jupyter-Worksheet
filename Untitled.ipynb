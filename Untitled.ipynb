{
 "cells": [
  {
   "cell_type": "markdown",
   "metadata": {},
   "source": [
    "# Jupyter Worksheet\n",
    "###### *Dillon Ward - G00326756 - Emerging Technologies*"
   ]
  },
  {
   "cell_type": "markdown",
   "metadata": {},
   "source": [
    "## 1. Get and load the data\n",
    "\n",
    "Search online for Fisher’s iris data set and load the CSV file into a numpy array.\n"
   ]
  },
  {
   "cell_type": "code",
   "execution_count": 1,
   "metadata": {
    "collapsed": true
   },
   "outputs": [],
   "source": [
    " import numpy as np\n",
    "import csv\n",
    "\n",
    "# Open the CSV file\n",
    "with open('./data/fishers-data-set.csv') as csvfile:\n",
    "    # Read in the CSV file\n",
    "    # NOTE: everything is separated everything by ','\n",
    "    readCSV = csv.reader(csvfile, delimiter=',')\n",
    "\n",
    "    # Arrays for storing the CSV values are initialized\n",
    "    # will be used later for storing\n",
    "    sepal_length = []\n",
    "    sepal_width = []\n",
    "    petal_length = []\n",
    "    petal_width = []\n",
    "    iris_class = []\n",
    "\n",
    "\n",
    "    # loops for the size of the CSV file\n",
    "    for row in readCSV:\n",
    "\n",
    "        # temporary values for appending to the arrays\n",
    "        # the first row '[0]' will be the sepal length\n",
    "        # the second will be sepal width, etc.\n",
    "        sepal_l = row[0]\n",
    "        sepal_w = row[1]\n",
    "        petal_l = row[2]\n",
    "        petal_w = row[3]\n",
    "        iris_c = [4]\n",
    "\n",
    "        # appending the values that are read in from the files to arrays\n",
    "        sepal_length.append(sepal_l)\n",
    "        sepal_width.append(sepal_w)\n",
    "        petal_length.append(petal_l)\n",
    "        petal_width.append(petal_w)\n",
    "        iris_class.append(iris_c)\n"
   ]
  },
  {
   "cell_type": "code",
   "execution_count": null,
   "metadata": {},
   "outputs": [],
   "source": [
    "\n"
   ]
  },
  {
   "cell_type": "code",
   "execution_count": null,
   "metadata": {
    "collapsed": true
   },
   "outputs": [],
   "source": []
  }
 ],
 "metadata": {
  "kernelspec": {
   "display_name": "Python 3",
   "language": "python",
   "name": "python3"
  },
  "language_info": {
   "codemirror_mode": {
    "name": "ipython",
    "version": 3
   },
   "file_extension": ".py",
   "mimetype": "text/x-python",
   "name": "python",
   "nbconvert_exporter": "python",
   "pygments_lexer": "ipython3",
   "version": "3.6.3"
  }
 },
 "nbformat": 4,
 "nbformat_minor": 2
}
